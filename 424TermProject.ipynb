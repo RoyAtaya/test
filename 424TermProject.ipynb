{
  "nbformat": 4,
  "nbformat_minor": 0,
  "metadata": {
    "colab": {
      "name": "424TermProject.ipynb",
      "provenance": [],
      "collapsed_sections": []
    },
    "kernelspec": {
      "name": "python3",
      "display_name": "Python 3"
    }
  },
  "cells": [
    {
      "cell_type": "markdown",
      "metadata": {
        "id": "hdAQfzGD7NPr"
      },
      "source": [
        "# Mount Google Drive\n",
        "This will allow the Colab machine to access Google Drive folders by mounting the drive on the machine. You will be asked to copy and paste an authentication code.\n"
      ]
    },
    {
      "cell_type": "code",
      "metadata": {
        "id": "9eLaqPPI6oMj",
        "outputId": "2edeb664-e3b0-4094-9941-ec121618989f",
        "colab": {
          "base_uri": "https://localhost:8080/",
          "height": 34
        }
      },
      "source": [
        "# Import google drive folder\n",
        "from google.colab import drive\n",
        "drive.mount('/content/drive/')"
      ],
      "execution_count": null,
      "outputs": [
        {
          "output_type": "stream",
          "text": [
            "Drive already mounted at /content/drive/; to attempt to forcibly remount, call drive.mount(\"/content/drive/\", force_remount=True).\n"
          ],
          "name": "stdout"
        }
      ]
    },
    {
      "cell_type": "code",
      "metadata": {
        "id": "zpQ2GYwnU6N3",
        "outputId": "49830da2-569f-4ab6-b80c-f004118421f3",
        "colab": {
          "base_uri": "https://localhost:8080/",
          "height": 51
        }
      },
      "source": [
        "from PIL import Image \n",
        "import numpy as np\n",
        "import os\n",
        "from matplotlib import pyplot as plt\n",
        "\n",
        "# test code to show that the enviornment is working\n",
        "# for the code to work you need to have ENSC 424 term project folder in your My Drive folder on google drive\n",
        "# will eventually update so it work with a relative path\n",
        "![](https://raw.githubusercontent.com/RoyAtaya/test/blob/main/test.jpg)\n",
        "# testImg = np.array(Image.open('/content/drive/My Drive/ENSC 424 term project/data/test.jpg'))\n",
        "# plt.imshow(testImg)"
      ],
      "execution_count": 8,
      "outputs": [
        {
          "output_type": "stream",
          "text": [
            "/bin/bash: -c: line 0: syntax error near unexpected token `https://raw.githubusercontent.com/RoyAtaya/test/blob/main/test.jpg'\n",
            "/bin/bash: -c: line 0: `[](https://raw.githubusercontent.com/RoyAtaya/test/blob/main/test.jpg)'\n"
          ],
          "name": "stdout"
        }
      ]
    }
  ]
}